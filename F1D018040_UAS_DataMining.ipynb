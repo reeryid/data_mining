{
 "cells": [
  {
   "cell_type": "markdown",
   "id": "901d089d-d6c7-47c9-a979-8435d0fe5738",
   "metadata": {},
   "source": [
    "## UAS Data Mining\n",
    "### Muhammad Qalbu Dary (F1D018040)\n",
    "#### Penjelasan Data dan Variasi\n",
    "import library yang akan digunakan"
   ]
  },
  {
   "cell_type": "code",
   "execution_count": 1,
   "id": "74b30b32-f036-411d-ac3b-27198bc43c9c",
   "metadata": {},
   "outputs": [],
   "source": [
    "import pandas as pd\n",
    "from random import randint,uniform\n",
    "from sklearn.cluster import KMeans\n",
    "import seaborn as sns\n",
    "import matplotlib.pyplot as plt\n",
    "%matplotlib inline"
   ]
  },
  {
   "cell_type": "code",
   "execution_count": 2,
   "id": "337c5930-d3d5-4fd8-b7ab-1ba64fa78e04",
   "metadata": {},
   "outputs": [
    {
     "name": "stderr",
     "output_type": "stream",
     "text": [
      "c:\\users\\9desi\\appdata\\local\\programs\\python\\python38-32\\lib\\site-packages\\IPython\\core\\interactiveshell.py:3145: DtypeWarning: Columns (6,7,8,9,10,11,12,14,15,16,17,18,19,20,21,22,23,24,25,28,29,30,31,32,33,34,35) have mixed types.Specify dtype option on import or set low_memory=False.\n",
      "  has_raised = await self.run_ast_nodes(code_ast.body, cell_name,\n"
     ]
    }
   ],
   "source": [
    "dataset = pd.read_csv(\"Final_Pulse_Data.csv\")"
   ]
  },
  {
   "cell_type": "markdown",
   "id": "5ba5cf52-80d8-4b37-9d46-0a5113b970dc",
   "metadata": {},
   "source": [
    "Melihat nama-nama kolom yang akan digunakan dan menghitung jumlah NaN di setiap kolomnya"
   ]
  },
  {
   "cell_type": "code",
   "execution_count": 4,
   "id": "300ebb47-9e15-42b6-a4d8-2aee0af871df",
   "metadata": {},
   "outputs": [
    {
     "data": {
      "text/plain": [
       "Index(['Enough of the kinds of food wanted',\n",
       "       'Enough Food, but not always the kinds wanted',\n",
       "       'Sometimes not enough to eat', 'Often not enough to eat',\n",
       "       'Did not report', 'Age', 'Sex_At_Birth', 'Race', 'Education',\n",
       "       'Marital_Status', 'Children_Present', 'Unemployed_Last_4',\n",
       "       'Employed_Last_7', 'Reason_Not_Working', 'Receiving_Pay_No_Work',\n",
       "       'Income', 'Health_Status', 'Freq_Feel_Anxious',\n",
       "       'Freq_Feel_Control_Worry', 'Freq_Feel_Lil_Interest',\n",
       "       'Freq_Feel_Depressed', 'Covered_By_Insurance', 'Caught_Up_On_Mortgage',\n",
       "       'Conf_Pay_Next_Rent_or_Mortgage', 'Free_Groceries',\n",
       "       'Provider_Of_Free_Groceries', 'Location', 'Week', 'Household_Size',\n",
       "       'Used_To_Meet_Needs', 'House_Receives_SNAP', 'Active_Duty',\n",
       "       'Difficulty_Seeing', 'Difficulty_Hearing', 'Difficulty_Remembering',\n",
       "       'Difficulty_Walking_Climbing', 'Sexual_Orientation', 'LGBT',\n",
       "       'week_name', 'Year'],\n",
       "      dtype='object')"
      ]
     },
     "execution_count": 4,
     "metadata": {},
     "output_type": "execute_result"
    }
   ],
   "source": [
    "dataset.columns"
   ]
  },
  {
   "cell_type": "code",
   "execution_count": 5,
   "id": "90dbfd43-5a91-4886-8f22-7f38412fa1eb",
   "metadata": {},
   "outputs": [
    {
     "data": {
      "text/plain": [
       "Enough of the kinds of food wanted                   0\n",
       "Enough Food, but not always the kinds wanted         0\n",
       "Sometimes not enough to eat                          0\n",
       "Often not enough to eat                              0\n",
       "Did not report                                       0\n",
       "Age                                             293393\n",
       "Sex_At_Birth                                    302706\n",
       "Race                                            298083\n",
       "Education                                       298820\n",
       "Marital_Status                                  298083\n",
       "Children_Present                                303242\n",
       "Unemployed_Last_4                               301165\n",
       "Employed_Last_7                                 301165\n",
       "Reason_Not_Working                              272556\n",
       "Receiving_Pay_No_Work                           300428\n",
       "Income                                          291919\n",
       "Health_Status                                   299356\n",
       "Freq_Feel_Anxious                               295403\n",
       "Freq_Feel_Control_Worry                         298083\n",
       "Freq_Feel_Lil_Interest                          298083\n",
       "Freq_Feel_Depressed                             298083\n",
       "Covered_By_Insurance                            299959\n",
       "Caught_Up_On_Mortgage                           298820\n",
       "Conf_Pay_Next_Rent_or_Mortgage                  295939\n",
       "Free_Groceries                                  301165\n",
       "Provider_Of_Free_Groceries                      291316\n",
       "Location                                             0\n",
       "Week                                                 0\n",
       "Household_Size                                  295001\n",
       "Used_To_Meet_Needs                              295470\n",
       "House_Receives_SNAP                             302371\n",
       "Active_Duty                                     301768\n",
       "Difficulty_Seeing                               303443\n",
       "Difficulty_Hearing                              303443\n",
       "Difficulty_Remembering                          303443\n",
       "Difficulty_Walking_Climbing                     303443\n",
       "Sexual_Orientation                              305788\n",
       "LGBT                                            305788\n",
       "week_name                                            0\n",
       "Year                                                 0\n",
       "dtype: int64"
      ]
     },
     "execution_count": 5,
     "metadata": {},
     "output_type": "execute_result"
    }
   ],
   "source": [
    "dataset.isnull().sum()"
   ]
  },
  {
   "cell_type": "code",
   "execution_count": 56,
   "id": "03facca7-b030-4bd8-9ca8-46cb69c4d385",
   "metadata": {},
   "outputs": [],
   "source": [
    "df = dataset[['Enough of the kinds of food wanted','Location','Week','Education']]"
   ]
  },
  {
   "cell_type": "markdown",
   "id": "d7a605d1-fd47-4aa4-a07a-583a4f41a1dd",
   "metadata": {
    "tags": []
   },
   "source": [
    "#### Preprocessing\n",
    "Melakukan feature extraction"
   ]
  },
  {
   "cell_type": "code",
   "execution_count": 57,
   "id": "32f31c40-9080-4452-8cab-c76f399cf261",
   "metadata": {},
   "outputs": [
    {
     "data": {
      "text/plain": [
       "Enough of the kinds of food wanted         0\n",
       "Location                                   0\n",
       "Week                                       0\n",
       "Education                             298820\n",
       "dtype: int64"
      ]
     },
     "execution_count": 57,
     "metadata": {},
     "output_type": "execute_result"
    }
   ],
   "source": [
    "df.isnull().sum()"
   ]
  },
  {
   "cell_type": "markdown",
   "id": "8cea070d-3231-4f2f-8ebe-3d05e8f0236e",
   "metadata": {},
   "source": [
    "Mengubah nama kolom agar lebih mudah diketik dan menghapus row yang memiliki NaN"
   ]
  },
  {
   "cell_type": "code",
   "execution_count": 58,
   "id": "65e19302-2c84-4441-af2f-2871b57e31dc",
   "metadata": {},
   "outputs": [],
   "source": [
    "df.columns=['A','Location','Week','Education']"
   ]
  },
  {
   "cell_type": "code",
   "execution_count": 59,
   "id": "d523f27b-cc81-40a8-a5d0-8f873712cb71",
   "metadata": {},
   "outputs": [],
   "source": [
    "df = df.dropna()"
   ]
  },
  {
   "cell_type": "markdown",
   "id": "2d4a0652-148f-4758-a743-4342a3626281",
   "metadata": {},
   "source": [
    "Membuat String indexer dengan method **unique()** untuk mendapatkan hasil korelasi kolom yang bertipe Object/Categorical "
   ]
  },
  {
   "cell_type": "code",
   "execution_count": 60,
   "id": "781e9af1-58aa-4b76-b5c4-d0b59eb8e8fa",
   "metadata": {},
   "outputs": [],
   "source": [
    "def stringIndexer(attr):\n",
    "    uni = list(df[attr].unique())\n",
    "    inp = list(df[attr].to_numpy())\n",
    "    out = []\n",
    "    for x in inp:\n",
    "        out.append(uni.index(x))\n",
    "    return out"
   ]
  },
  {
   "cell_type": "code",
   "execution_count": 61,
   "id": "64a6c26a-2814-4e05-9aab-6231bb13102c",
   "metadata": {},
   "outputs": [],
   "source": [
    "def multiStringIndexer(attrs):\n",
    "    for x in attrs:\n",
    "        df[x+'_index'] = pd.Series(stringIndexer(x),index=df.index)"
   ]
  },
  {
   "cell_type": "code",
   "execution_count": 62,
   "id": "2d8b012c-92cf-43e4-a85f-55cdd7161804",
   "metadata": {},
   "outputs": [],
   "source": [
    "multiStringIndexer(['Location','Week','Education'])"
   ]
  },
  {
   "cell_type": "code",
   "execution_count": 63,
   "id": "dbe9e6ea-644a-44c4-9a0b-32568066d026",
   "metadata": {},
   "outputs": [
    {
     "data": {
      "text/html": [
       "<div>\n",
       "<style scoped>\n",
       "    .dataframe tbody tr th:only-of-type {\n",
       "        vertical-align: middle;\n",
       "    }\n",
       "\n",
       "    .dataframe tbody tr th {\n",
       "        vertical-align: top;\n",
       "    }\n",
       "\n",
       "    .dataframe thead th {\n",
       "        text-align: right;\n",
       "    }\n",
       "</style>\n",
       "<table border=\"1\" class=\"dataframe\">\n",
       "  <thead>\n",
       "    <tr style=\"text-align: right;\">\n",
       "      <th></th>\n",
       "      <th>A</th>\n",
       "      <th>Location_index</th>\n",
       "      <th>Week_index</th>\n",
       "      <th>Education_index</th>\n",
       "    </tr>\n",
       "  </thead>\n",
       "  <tbody>\n",
       "    <tr>\n",
       "      <th>A</th>\n",
       "      <td>1.000000</td>\n",
       "      <td>-1.855797e-01</td>\n",
       "      <td>6.982199e-03</td>\n",
       "      <td>1.217983e-01</td>\n",
       "    </tr>\n",
       "    <tr>\n",
       "      <th>Location_index</th>\n",
       "      <td>-0.185580</td>\n",
       "      <td>1.000000e+00</td>\n",
       "      <td>1.817720e-16</td>\n",
       "      <td>5.659427e-17</td>\n",
       "    </tr>\n",
       "    <tr>\n",
       "      <th>Week_index</th>\n",
       "      <td>0.006982</td>\n",
       "      <td>1.817720e-16</td>\n",
       "      <td>1.000000e+00</td>\n",
       "      <td>1.068278e-15</td>\n",
       "    </tr>\n",
       "    <tr>\n",
       "      <th>Education_index</th>\n",
       "      <td>0.121798</td>\n",
       "      <td>5.659427e-17</td>\n",
       "      <td>1.068278e-15</td>\n",
       "      <td>1.000000e+00</td>\n",
       "    </tr>\n",
       "  </tbody>\n",
       "</table>\n",
       "</div>"
      ],
      "text/plain": [
       "                        A  Location_index    Week_index  Education_index\n",
       "A                1.000000   -1.855797e-01  6.982199e-03     1.217983e-01\n",
       "Location_index  -0.185580    1.000000e+00  1.817720e-16     5.659427e-17\n",
       "Week_index       0.006982    1.817720e-16  1.000000e+00     1.068278e-15\n",
       "Education_index  0.121798    5.659427e-17  1.068278e-15     1.000000e+00"
      ]
     },
     "execution_count": 63,
     "metadata": {},
     "output_type": "execute_result"
    }
   ],
   "source": [
    "df.corr()"
   ]
  },
  {
   "cell_type": "markdown",
   "id": "8be8a3b0-45c9-46e1-a88a-0bbc39ee5e81",
   "metadata": {},
   "source": [
    "#### ARM  \n",
    "Menggunakan Algoritma FP-Growth"
   ]
  },
  {
   "cell_type": "code",
   "execution_count": 64,
   "id": "316740ee-672d-4e25-8bcb-3f3a27c26d4d",
   "metadata": {},
   "outputs": [],
   "source": [
    "import pyfpgrowth"
   ]
  },
  {
   "cell_type": "code",
   "execution_count": 65,
   "id": "1633a916-21fd-4fd1-836b-d880ee8e35cc",
   "metadata": {},
   "outputs": [
    {
     "data": {
      "text/html": [
       "<div>\n",
       "<style scoped>\n",
       "    .dataframe tbody tr th:only-of-type {\n",
       "        vertical-align: middle;\n",
       "    }\n",
       "\n",
       "    .dataframe tbody tr th {\n",
       "        vertical-align: top;\n",
       "    }\n",
       "\n",
       "    .dataframe thead th {\n",
       "        text-align: right;\n",
       "    }\n",
       "</style>\n",
       "<table border=\"1\" class=\"dataframe\">\n",
       "  <thead>\n",
       "    <tr style=\"text-align: right;\">\n",
       "      <th></th>\n",
       "      <th>A</th>\n",
       "      <th>Location</th>\n",
       "      <th>Week</th>\n",
       "      <th>Education</th>\n",
       "      <th>Location_index</th>\n",
       "      <th>Week_index</th>\n",
       "      <th>Education_index</th>\n",
       "    </tr>\n",
       "  </thead>\n",
       "  <tbody>\n",
       "    <tr>\n",
       "      <th>12</th>\n",
       "      <td>7370256.0</td>\n",
       "      <td>US</td>\n",
       "      <td>week1</td>\n",
       "      <td>Less than high school</td>\n",
       "      <td>0</td>\n",
       "      <td>0</td>\n",
       "      <td>0</td>\n",
       "    </tr>\n",
       "    <tr>\n",
       "      <th>13</th>\n",
       "      <td>42584525.0</td>\n",
       "      <td>US</td>\n",
       "      <td>week1</td>\n",
       "      <td>High school or GED</td>\n",
       "      <td>0</td>\n",
       "      <td>0</td>\n",
       "      <td>1</td>\n",
       "    </tr>\n",
       "    <tr>\n",
       "      <th>14</th>\n",
       "      <td>40825851.0</td>\n",
       "      <td>US</td>\n",
       "      <td>week1</td>\n",
       "      <td>Some college/associate’s degree</td>\n",
       "      <td>0</td>\n",
       "      <td>0</td>\n",
       "      <td>2</td>\n",
       "    </tr>\n",
       "    <tr>\n",
       "      <th>15</th>\n",
       "      <td>51912582.0</td>\n",
       "      <td>US</td>\n",
       "      <td>week1</td>\n",
       "      <td>Bachelor’s degree or higher</td>\n",
       "      <td>0</td>\n",
       "      <td>0</td>\n",
       "      <td>3</td>\n",
       "    </tr>\n",
       "    <tr>\n",
       "      <th>119</th>\n",
       "      <td>135057.0</td>\n",
       "      <td>AL</td>\n",
       "      <td>week1</td>\n",
       "      <td>Less than high school</td>\n",
       "      <td>1</td>\n",
       "      <td>0</td>\n",
       "      <td>0</td>\n",
       "    </tr>\n",
       "  </tbody>\n",
       "</table>\n",
       "</div>"
      ],
      "text/plain": [
       "              A Location   Week                        Education  \\\n",
       "12    7370256.0       US  week1            Less than high school   \n",
       "13   42584525.0       US  week1               High school or GED   \n",
       "14   40825851.0       US  week1  Some college/associate’s degree   \n",
       "15   51912582.0       US  week1      Bachelor’s degree or higher   \n",
       "119    135057.0       AL  week1            Less than high school   \n",
       "\n",
       "     Location_index  Week_index  Education_index  \n",
       "12                0           0                0  \n",
       "13                0           0                1  \n",
       "14                0           0                2  \n",
       "15                0           0                3  \n",
       "119               1           0                0  "
      ]
     },
     "execution_count": 65,
     "metadata": {},
     "output_type": "execute_result"
    }
   ],
   "source": [
    "df.head()"
   ]
  },
  {
   "cell_type": "code",
   "execution_count": 66,
   "id": "f413ddcc-1335-41cb-89df-3d7b3a1d9e73",
   "metadata": {},
   "outputs": [
    {
     "data": {
      "text/plain": [
       "(6968, 7)"
      ]
     },
     "execution_count": 66,
     "metadata": {},
     "output_type": "execute_result"
    }
   ],
   "source": [
    "df.shape"
   ]
  },
  {
   "cell_type": "code",
   "execution_count": 67,
   "id": "54779608-516e-4a46-88f5-bd01f93eefbb",
   "metadata": {},
   "outputs": [
    {
     "name": "stdout",
     "output_type": "stream",
     "text": [
      "('d', 'o') : 5\n",
      "('d', 'i', 'o') : 9\n",
      "('d', 'n', 'o') : 9\n",
      "('d', 'i', 'n', 'o') : 9\n",
      "('d', 'e') : 6\n",
      "('d', 'e', 'i') : 9\n",
      "('d', 'e', 'n') : 9\n",
      "('d', 'e', 'i', 'n') : 9\n",
      "('d', 'n') : 8\n",
      "('d', 'i') : 8\n",
      "('d', 'i', 'n') : 11\n",
      "('o',) : 6\n",
      "('n', 'o') : 9\n",
      "('i', 'o') : 9\n",
      "('i', 'n', 'o') : 9\n",
      "('i',) : 7\n",
      "('n',) : 7\n",
      "('i', 'n') : 9\n",
      "('e',) : 7\n",
      "('e', 'n') : 5\n",
      "('e', 'i') : 5\n",
      "('e', 'i', 'n') : 5\n"
     ]
    }
   ],
   "source": [
    "patterns = pyfpgrowth.find_frequent_patterns(df, 5)\n",
    "for p,d in patterns.items():\n",
    "    print(p,\":\",d)"
   ]
  },
  {
   "cell_type": "code",
   "execution_count": 68,
   "id": "b7514256-8597-4044-b05c-2a3ab534f6cb",
   "metadata": {},
   "outputs": [
    {
     "name": "stdout",
     "output_type": "stream",
     "text": [
      "Kemungkinan ('i', 'n') Setelah ('o',) adalah 150.0 %\n",
      "Kemungkinan ('e', 'n') Setelah ('i',) adalah 71.42857142857143 %\n",
      "Kemungkinan ('n',) Setelah ('d', 'i') adalah 137.5 %\n",
      "Kemungkinan ('i', 'n') Setelah ('d', 'o') adalah 180.0 %\n",
      "Kemungkinan ('n',) Setelah ('i', 'o') adalah 100.0 %\n",
      "Kemungkinan ('e', 'i') Setelah ('n',) adalah 71.42857142857143 %\n",
      "Kemungkinan ('i',) Setelah ('d', 'n') adalah 137.5 %\n",
      "Kemungkinan ('i',) Setelah ('n', 'o') adalah 100.0 %\n",
      "Kemungkinan ('e',) Setelah ('i', 'n') adalah 55.55555555555556 %\n",
      "Kemungkinan ('e',) Setelah ('d', 'i', 'n') adalah 81.81818181818183 %\n",
      "Kemungkinan ('n',) Setelah ('d', 'i', 'o') adalah 100.0 %\n",
      "Kemungkinan ('i',) Setelah ('d', 'n', 'o') adalah 100.0 %\n",
      "Kemungkinan ('d',) Setelah ('i', 'n', 'o') adalah 100.0 %\n",
      "Kemungkinan ('i', 'n') Setelah ('e',) adalah 71.42857142857143 %\n",
      "Kemungkinan ('i', 'n') Setelah ('d', 'e') adalah 150.0 %\n",
      "Kemungkinan ('n',) Setelah ('e', 'i') adalah 100.0 %\n",
      "Kemungkinan ('i',) Setelah ('e', 'n') adalah 100.0 %\n",
      "Kemungkinan ('n',) Setelah ('d', 'e', 'i') adalah 100.0 %\n",
      "Kemungkinan ('i',) Setelah ('d', 'e', 'n') adalah 100.0 %\n",
      "Kemungkinan ('d',) Setelah ('e', 'i', 'n') adalah 180.0 %\n"
     ]
    }
   ],
   "source": [
    "rules = pyfpgrowth.generate_association_rules(patterns, 0.3)\n",
    "for p,d in rules.items():\n",
    "    print(\"Kemungkinan\",d[0],\"Setelah\" ,p,\"adalah\",d[1]*100,\"%\")"
   ]
  },
  {
   "cell_type": "markdown",
   "id": "cb983355-0eee-44e8-8503-da02b469fc50",
   "metadata": {},
   "source": [
    "Dapat dilihat diatas Rules-rules yang terekstrak dari pengunaan ARM mengunakan Algoritma FP-Growth  \n",
    "#### Skyline Query"
   ]
  },
  {
   "cell_type": "code",
   "execution_count": 69,
   "id": "d3e7daaa-cf14-4526-86ed-dd6b39ae553f",
   "metadata": {},
   "outputs": [
    {
     "data": {
      "text/plain": [
       "Text(0.5, 1.0, 'Kemampuan Membeli makan bedasarkan Edukasi')"
      ]
     },
     "execution_count": 69,
     "metadata": {},
     "output_type": "execute_result"
    },
    {
     "data": {
      "image/png": "[encoded data removed]",
      "text/plain": [
       "<Figure size 432x288 with 1 Axes>"
      ]
     },
     "metadata": {
      "needs_background": "light"
     },
     "output_type": "display_data"
    }
   ],
   "source": [
    "ax = df.plot.scatter(x='A', y='Education_index')\n",
    "ax.set_title('Kemampuan Membeli makan bedasarkan Edukasi')"
   ]
  },
  {
   "cell_type": "code",
   "execution_count": 70,
   "id": "25c33bc7-c0ee-400f-a8a4-514eb4f29683",
   "metadata": {},
   "outputs": [],
   "source": [
    "def a_dominates_b(a, b, to_min, to_max):\n",
    "    n_better = 0\n",
    "    for f in to_min:\n",
    "        if a[f] > b[f]:\n",
    "            return False\n",
    "        n_better += a[f] < b[f]\n",
    "    for f in to_max:\n",
    "        if a[f] < b[f]:\n",
    "            return False\n",
    "        n_better += a[f] > b[f]\n",
    "    if n_better > 0:\n",
    "        return True\n",
    "    return False"
   ]
  },
  {
   "cell_type": "code",
   "execution_count": 71,
   "id": "ac8a854d-1040-4b40-bc27-a038bd1b92bc",
   "metadata": {},
   "outputs": [],
   "source": [
    "def find_skyline_brute_force(df, to_min, to_max):\n",
    "    rows = df.to_dict(orient='index')\n",
    "    skyline = set()\n",
    "    for i in rows:\n",
    "        dominated = False\n",
    "        for j in rows:\n",
    "            if i == j:\n",
    "                continue\n",
    "            if a_dominates_b(rows[j], rows[i], to_min, to_max):\n",
    "                dominated = True\n",
    "                break\n",
    "        if not dominated:\n",
    "            skyline.add(i)\n",
    "    return pd.Series(df.index.isin(skyline), index=df.index)"
   ]
  },
  {
   "cell_type": "code",
   "execution_count": 72,
   "id": "bf9c575a-0721-440e-a2d3-d0a9b86f658e",
   "metadata": {},
   "outputs": [
    {
     "data": {
      "text/plain": [
       "Text(0.5, 1.0, 'Kemampuan makan yang cukup bedasarkan Edukasi - Skyline')"
      ]
     },
     "execution_count": 72,
     "metadata": {},
     "output_type": "execute_result"
    },
    {
     "data": {
      "image/png": "[encoded data removed]",
      "text/plain": [
       "<Figure size 432x288 with 1 Axes>"
      ]
     },
     "metadata": {
      "needs_background": "light"
     },
     "output_type": "display_data"
    }
   ],
   "source": [
    "skyline = find_skyline_brute_force(df, to_min=['Education_index'], to_max=['A'])\n",
    "\n",
    "colors = skyline.map({True: 'C1', False: 'C0'})\n",
    "ax = df.plot.scatter(x='A', y='Education_index', c=colors, alpha=0.8)\n",
    "ax.set_title('Kemampuan makan yang cukup bedasarkan Edukasi - Skyline')"
   ]
  },
  {
   "cell_type": "markdown",
   "id": "cac2d532-6da3-46ca-b1e9-d6e2599ade20",
   "metadata": {},
   "source": [
    "Preferensi yang dilakukan adalah untuk mencari data dimana Nilai pendidikan atau **Education_index** kecil yaitu pendidikan yang rendah  \n",
    "akan tetapi tetap bisa cukup makan yang diingikan"
   ]
  }
 ],
 "metadata": {
  "kernelspec": {
   "display_name": "Python 3",
   "language": "python",
   "name": "python3"
  },
  "language_info": {
   "codemirror_mode": {
    "name": "ipython",
    "version": 3
   },
   "file_extension": ".py",
   "mimetype": "text/x-python",
   "name": "python",
   "nbconvert_exporter": "python",
   "pygments_lexer": "ipython3",
   "version": "3.8.5"
  }
 },
 "nbformat": 4,
 "nbformat_minor": 5
}
